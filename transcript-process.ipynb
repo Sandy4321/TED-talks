{
 "cells": [
  {
   "cell_type": "code",
   "execution_count": 32,
   "metadata": {
    "collapsed": true
   },
   "outputs": [],
   "source": [
    "import os\n",
    "import settings\n",
    "import pandas as pd\n",
    "from scipy.stats import pearsonr\n",
    "import matplotlib.pyplot as plt\n",
    "%matplotlib inline"
   ]
  },
  {
   "cell_type": "code",
   "execution_count": 2,
   "metadata": {
    "collapsed": true
   },
   "outputs": [],
   "source": [
    "def read_data():\n",
    "    df = pd.read_excel(os.path.join(settings.PROCESSED_DIR, \"all_with_liwc.xls\"), encoding=\"ISO-8859-1\")\n",
    "    return df\n"
   ]
  },
  {
   "cell_type": "code",
   "execution_count": 3,
   "metadata": {
    "collapsed": true
   },
   "outputs": [],
   "source": [
    "df = read_data()"
   ]
  },
  {
   "cell_type": "code",
   "execution_count": 38,
   "metadata": {
    "collapsed": true
   },
   "outputs": [],
   "source": [
    "def drop_rows_with_music():\n",
    "    return df[df['music'] == 0]"
   ]
  },
  {
   "cell_type": "code",
   "execution_count": 39,
   "metadata": {
    "collapsed": true
   },
   "outputs": [],
   "source": [
    "df = drop_rows_with_music()"
   ]
  },
  {
   "cell_type": "code",
   "execution_count": 40,
   "metadata": {},
   "outputs": [
    {
     "name": "stdout",
     "output_type": "stream",
     "text": [
      "<class 'pandas.core.frame.DataFrame'>\n",
      "Int64Index: 2406 entries, 0 to 2627\n",
      "Columns: 155 entries, index to Authority\n",
      "dtypes: datetime64[ns](2), float64(124), int64(16), object(13)\n",
      "memory usage: 2.9+ MB\n"
     ]
    }
   ],
   "source": [
    "df.info()"
   ]
  },
  {
   "cell_type": "code",
   "execution_count": 41,
   "metadata": {
    "collapsed": true
   },
   "outputs": [],
   "source": [
    "del df['posemo_incr']\n",
    "del df['negemo_decr']\n",
    "del df['affect_change']"
   ]
  },
  {
   "cell_type": "code",
   "execution_count": 42,
   "metadata": {
    "collapsed": true
   },
   "outputs": [],
   "source": [
    "def calculate_sentiment_change():\n",
    "    df['posemo_change'] = df['posemo2'] - df['posemo1']\n",
    "    df['negemo_change'] = df['negemo2'] - df['negemo1']\n",
    "    df['affect_change'] = df['posemo_change'] + df['negemo_change']\n",
    "    return df"
   ]
  },
  {
   "cell_type": "code",
   "execution_count": 43,
   "metadata": {
    "collapsed": true
   },
   "outputs": [],
   "source": [
    "df = calculate_sentiment_change()"
   ]
  },
  {
   "cell_type": "code",
   "execution_count": 44,
   "metadata": {},
   "outputs": [
    {
     "data": {
      "text/html": [
       "<div>\n",
       "<style>\n",
       "    .dataframe thead tr:only-child th {\n",
       "        text-align: right;\n",
       "    }\n",
       "\n",
       "    .dataframe thead th {\n",
       "        text-align: left;\n",
       "    }\n",
       "\n",
       "    .dataframe tbody tr th {\n",
       "        vertical-align: top;\n",
       "    }\n",
       "</style>\n",
       "<table border=\"1\" class=\"dataframe\">\n",
       "  <thead>\n",
       "    <tr style=\"text-align: right;\">\n",
       "      <th></th>\n",
       "      <th>index</th>\n",
       "      <th>comments</th>\n",
       "      <th>description</th>\n",
       "      <th>duration</th>\n",
       "      <th>event</th>\n",
       "      <th>film_date</th>\n",
       "      <th>languages</th>\n",
       "      <th>main_speaker</th>\n",
       "      <th>name</th>\n",
       "      <th>published_date</th>\n",
       "      <th>...</th>\n",
       "      <th>published_dt</th>\n",
       "      <th>published_year</th>\n",
       "      <th>Harm</th>\n",
       "      <th>Fairness</th>\n",
       "      <th>Purity</th>\n",
       "      <th>Ingroup</th>\n",
       "      <th>Authority</th>\n",
       "      <th>posemo_change</th>\n",
       "      <th>negemo_change</th>\n",
       "      <th>affect_change</th>\n",
       "    </tr>\n",
       "  </thead>\n",
       "  <tbody>\n",
       "    <tr>\n",
       "      <th>0</th>\n",
       "      <td>0</td>\n",
       "      <td>4553</td>\n",
       "      <td>Sir Ken Robinson makes an entertaining and pro...</td>\n",
       "      <td>1164</td>\n",
       "      <td>TED2006</td>\n",
       "      <td>1140825600</td>\n",
       "      <td>60</td>\n",
       "      <td>Ken Robinson</td>\n",
       "      <td>Ken Robinson: Do schools kill creativity?</td>\n",
       "      <td>1151367060</td>\n",
       "      <td>...</td>\n",
       "      <td>2006-06-27 00:11:00</td>\n",
       "      <td>2006</td>\n",
       "      <td>0.00</td>\n",
       "      <td>0.00</td>\n",
       "      <td>0.03</td>\n",
       "      <td>0.03</td>\n",
       "      <td>0.41</td>\n",
       "      <td>-0.32</td>\n",
       "      <td>-0.89</td>\n",
       "      <td>-1.21</td>\n",
       "    </tr>\n",
       "    <tr>\n",
       "      <th>1</th>\n",
       "      <td>1</td>\n",
       "      <td>265</td>\n",
       "      <td>With the same humor and humanity he exuded in ...</td>\n",
       "      <td>977</td>\n",
       "      <td>TED2006</td>\n",
       "      <td>1140825600</td>\n",
       "      <td>43</td>\n",
       "      <td>Al Gore</td>\n",
       "      <td>Al Gore: Averting the climate crisis</td>\n",
       "      <td>1151367060</td>\n",
       "      <td>...</td>\n",
       "      <td>2006-06-27 00:11:00</td>\n",
       "      <td>2006</td>\n",
       "      <td>0.00</td>\n",
       "      <td>0.00</td>\n",
       "      <td>0.00</td>\n",
       "      <td>0.55</td>\n",
       "      <td>0.41</td>\n",
       "      <td>-1.90</td>\n",
       "      <td>0.29</td>\n",
       "      <td>-1.61</td>\n",
       "    </tr>\n",
       "    <tr>\n",
       "      <th>2</th>\n",
       "      <td>2</td>\n",
       "      <td>124</td>\n",
       "      <td>New York Times columnist David Pogue takes aim...</td>\n",
       "      <td>1286</td>\n",
       "      <td>TED2006</td>\n",
       "      <td>1140739200</td>\n",
       "      <td>26</td>\n",
       "      <td>David Pogue</td>\n",
       "      <td>David Pogue: Simplicity sells</td>\n",
       "      <td>1151367060</td>\n",
       "      <td>...</td>\n",
       "      <td>2006-06-27 00:11:00</td>\n",
       "      <td>2006</td>\n",
       "      <td>0.03</td>\n",
       "      <td>0.00</td>\n",
       "      <td>0.09</td>\n",
       "      <td>0.12</td>\n",
       "      <td>0.03</td>\n",
       "      <td>0.02</td>\n",
       "      <td>0.07</td>\n",
       "      <td>0.09</td>\n",
       "    </tr>\n",
       "    <tr>\n",
       "      <th>3</th>\n",
       "      <td>3</td>\n",
       "      <td>200</td>\n",
       "      <td>In an emotionally charged talk, MacArthur-winn...</td>\n",
       "      <td>1116</td>\n",
       "      <td>TED2006</td>\n",
       "      <td>1140912000</td>\n",
       "      <td>35</td>\n",
       "      <td>Majora Carter</td>\n",
       "      <td>Majora Carter: Greening the ghetto</td>\n",
       "      <td>1151367060</td>\n",
       "      <td>...</td>\n",
       "      <td>2006-06-27 00:11:00</td>\n",
       "      <td>2006</td>\n",
       "      <td>0.29</td>\n",
       "      <td>0.22</td>\n",
       "      <td>0.06</td>\n",
       "      <td>0.96</td>\n",
       "      <td>0.13</td>\n",
       "      <td>0.65</td>\n",
       "      <td>-0.52</td>\n",
       "      <td>0.13</td>\n",
       "    </tr>\n",
       "    <tr>\n",
       "      <th>4</th>\n",
       "      <td>4</td>\n",
       "      <td>593</td>\n",
       "      <td>You've never seen data presented like this. Wi...</td>\n",
       "      <td>1190</td>\n",
       "      <td>TED2006</td>\n",
       "      <td>1140566400</td>\n",
       "      <td>48</td>\n",
       "      <td>Hans Rosling</td>\n",
       "      <td>Hans Rosling: The best stats you've ever seen</td>\n",
       "      <td>1151440680</td>\n",
       "      <td>...</td>\n",
       "      <td>2006-06-27 20:38:00</td>\n",
       "      <td>2006</td>\n",
       "      <td>0.00</td>\n",
       "      <td>0.16</td>\n",
       "      <td>0.03</td>\n",
       "      <td>1.04</td>\n",
       "      <td>0.00</td>\n",
       "      <td>1.14</td>\n",
       "      <td>0.25</td>\n",
       "      <td>1.39</td>\n",
       "    </tr>\n",
       "  </tbody>\n",
       "</table>\n",
       "<p>5 rows × 155 columns</p>\n",
       "</div>"
      ],
      "text/plain": [
       "   index  comments                                        description  \\\n",
       "0      0      4553  Sir Ken Robinson makes an entertaining and pro...   \n",
       "1      1       265  With the same humor and humanity he exuded in ...   \n",
       "2      2       124  New York Times columnist David Pogue takes aim...   \n",
       "3      3       200  In an emotionally charged talk, MacArthur-winn...   \n",
       "4      4       593  You've never seen data presented like this. Wi...   \n",
       "\n",
       "   duration    event   film_date  languages   main_speaker  \\\n",
       "0      1164  TED2006  1140825600         60   Ken Robinson   \n",
       "1       977  TED2006  1140825600         43        Al Gore   \n",
       "2      1286  TED2006  1140739200         26    David Pogue   \n",
       "3      1116  TED2006  1140912000         35  Majora Carter   \n",
       "4      1190  TED2006  1140566400         48   Hans Rosling   \n",
       "\n",
       "                                            name  published_date  \\\n",
       "0      Ken Robinson: Do schools kill creativity?      1151367060   \n",
       "1           Al Gore: Averting the climate crisis      1151367060   \n",
       "2                  David Pogue: Simplicity sells      1151367060   \n",
       "3             Majora Carter: Greening the ghetto      1151367060   \n",
       "4  Hans Rosling: The best stats you've ever seen      1151440680   \n",
       "\n",
       "       ...             published_dt published_year  Harm Fairness Purity  \\\n",
       "0      ...      2006-06-27 00:11:00           2006  0.00     0.00   0.03   \n",
       "1      ...      2006-06-27 00:11:00           2006  0.00     0.00   0.00   \n",
       "2      ...      2006-06-27 00:11:00           2006  0.03     0.00   0.09   \n",
       "3      ...      2006-06-27 00:11:00           2006  0.29     0.22   0.06   \n",
       "4      ...      2006-06-27 20:38:00           2006  0.00     0.16   0.03   \n",
       "\n",
       "  Ingroup  Authority  posemo_change  negemo_change affect_change  \n",
       "0    0.03       0.41          -0.32          -0.89         -1.21  \n",
       "1    0.55       0.41          -1.90           0.29         -1.61  \n",
       "2    0.12       0.03           0.02           0.07          0.09  \n",
       "3    0.96       0.13           0.65          -0.52          0.13  \n",
       "4    1.04       0.00           1.14           0.25          1.39  \n",
       "\n",
       "[5 rows x 155 columns]"
      ]
     },
     "execution_count": 44,
     "metadata": {},
     "output_type": "execute_result"
    }
   ],
   "source": [
    "df.head()"
   ]
  },
  {
   "cell_type": "code",
   "execution_count": 46,
   "metadata": {},
   "outputs": [
    {
     "data": {
      "text/plain": [
       "count    2406.000000\n",
       "mean        0.463350\n",
       "std         1.111934\n",
       "min        -7.790000\n",
       "25%        -0.190000\n",
       "50%         0.420000\n",
       "75%         1.100000\n",
       "max         6.670000\n",
       "Name: posemo_change, dtype: float64"
      ]
     },
     "execution_count": 46,
     "metadata": {},
     "output_type": "execute_result"
    }
   ],
   "source": [
    "df['posemo_change'].describe()"
   ]
  },
  {
   "cell_type": "code",
   "execution_count": 47,
   "metadata": {},
   "outputs": [
    {
     "data": {
      "text/plain": [
       "count    2406.000000\n",
       "mean       -0.055732\n",
       "std         0.920640\n",
       "min        -4.520000\n",
       "25%        -0.520000\n",
       "50%        -0.020000\n",
       "75%         0.400000\n",
       "max        14.290000\n",
       "Name: negemo_change, dtype: float64"
      ]
     },
     "execution_count": 47,
     "metadata": {},
     "output_type": "execute_result"
    }
   ],
   "source": [
    "df['negemo_change'].describe()"
   ]
  },
  {
   "cell_type": "code",
   "execution_count": 48,
   "metadata": {},
   "outputs": [
    {
     "data": {
      "text/plain": [
       "count    2406.000000\n",
       "mean        0.407618\n",
       "std         1.408368\n",
       "min       -10.430000\n",
       "25%        -0.420000\n",
       "50%         0.340000\n",
       "75%         1.200000\n",
       "max        16.080000\n",
       "Name: affect_change, dtype: float64"
      ]
     },
     "execution_count": 48,
     "metadata": {},
     "output_type": "execute_result"
    }
   ],
   "source": [
    "df['affect_change'].describe()"
   ]
  },
  {
   "cell_type": "code",
   "execution_count": 21,
   "metadata": {},
   "outputs": [],
   "source": [
    "def create_published_year():\n",
    "    df['published_date_dt'] = pd.to_datetime(df['published_date'])\n",
    "    df['published_dt'] = pd.to_datetime(df['published_date'],unit='s')\n",
    "    df['published_year'] = df['published_dt'].dt.year\n",
    "    return df\n",
    "\n",
    "def create_moral_category_from_subsets():\n",
    "    df['Harm'] = df['HarmVirtue'] + df['HarmVice']\n",
    "    df['Fairness'] = df['FairnessVirtue'] + df['FairnessVice']\n",
    "    df['Purity'] = df['PurityVirtue'] + df['PurityVice']\n",
    "    df['Ingroup'] = df['IngroupVirtue'] + df['IngroupVice']\n",
    "    df['Authority'] = df['AuthorityVirtue'] + df['AuthorityVice']\n",
    "    return df\n",
    "\n",
    "df = create_published_year()\n",
    "df = create_moral_category_from_subsets()"
   ]
  },
  {
   "cell_type": "code",
   "execution_count": 50,
   "metadata": {},
   "outputs": [
    {
     "data": {
      "text/html": [
       "<div>\n",
       "<style>\n",
       "    .dataframe thead tr:only-child th {\n",
       "        text-align: right;\n",
       "    }\n",
       "\n",
       "    .dataframe thead th {\n",
       "        text-align: left;\n",
       "    }\n",
       "\n",
       "    .dataframe tbody tr th {\n",
       "        vertical-align: top;\n",
       "    }\n",
       "</style>\n",
       "<table border=\"1\" class=\"dataframe\">\n",
       "  <thead>\n",
       "    <tr style=\"text-align: right;\">\n",
       "      <th></th>\n",
       "      <th>index</th>\n",
       "      <th>comments</th>\n",
       "      <th>description</th>\n",
       "      <th>duration</th>\n",
       "      <th>event</th>\n",
       "      <th>film_date</th>\n",
       "      <th>languages</th>\n",
       "      <th>main_speaker</th>\n",
       "      <th>name</th>\n",
       "      <th>published_date</th>\n",
       "      <th>...</th>\n",
       "      <th>published_dt</th>\n",
       "      <th>published_year</th>\n",
       "      <th>Harm</th>\n",
       "      <th>Fairness</th>\n",
       "      <th>Purity</th>\n",
       "      <th>Ingroup</th>\n",
       "      <th>Authority</th>\n",
       "      <th>posemo_change</th>\n",
       "      <th>negemo_change</th>\n",
       "      <th>affect_change</th>\n",
       "    </tr>\n",
       "  </thead>\n",
       "  <tbody>\n",
       "    <tr>\n",
       "      <th>2623</th>\n",
       "      <td>2623</td>\n",
       "      <td>12</td>\n",
       "      <td>Anna Heringer: The warmth and wisdom of mud bu...</td>\n",
       "      <td>781</td>\n",
       "      <td>TED2017</td>\n",
       "      <td>1492992000</td>\n",
       "      <td>8</td>\n",
       "      <td>Anna Heringer</td>\n",
       "      <td>Anna Heringer: The warmth and wisdom of mud bu...</td>\n",
       "      <td>1506609881</td>\n",
       "      <td>...</td>\n",
       "      <td>2017-09-28 14:44:41</td>\n",
       "      <td>2017</td>\n",
       "      <td>0.17</td>\n",
       "      <td>0.06</td>\n",
       "      <td>0.40</td>\n",
       "      <td>0.23</td>\n",
       "      <td>0.40</td>\n",
       "      <td>-0.48</td>\n",
       "      <td>-0.12</td>\n",
       "      <td>-0.60</td>\n",
       "    </tr>\n",
       "    <tr>\n",
       "      <th>2624</th>\n",
       "      <td>2624</td>\n",
       "      <td>21</td>\n",
       "      <td>Julio Gil: Future tech will give you the benef...</td>\n",
       "      <td>667</td>\n",
       "      <td>TED@UPS</td>\n",
       "      <td>1500508800</td>\n",
       "      <td>14</td>\n",
       "      <td>Julio Gil</td>\n",
       "      <td>Julio Gil: Future tech will give you the benef...</td>\n",
       "      <td>1506524207</td>\n",
       "      <td>...</td>\n",
       "      <td>2017-09-27 14:56:47</td>\n",
       "      <td>2017</td>\n",
       "      <td>0.00</td>\n",
       "      <td>0.06</td>\n",
       "      <td>0.00</td>\n",
       "      <td>0.25</td>\n",
       "      <td>0.13</td>\n",
       "      <td>0.00</td>\n",
       "      <td>-0.38</td>\n",
       "      <td>-0.38</td>\n",
       "    </tr>\n",
       "    <tr>\n",
       "      <th>2625</th>\n",
       "      <td>2625</td>\n",
       "      <td>19</td>\n",
       "      <td>Nabila Alibhai: Why people of different faiths...</td>\n",
       "      <td>711</td>\n",
       "      <td>TEDGlobal 2017</td>\n",
       "      <td>1503792000</td>\n",
       "      <td>9</td>\n",
       "      <td>Nabila Alibhai</td>\n",
       "      <td>Nabila Alibhai: Why people of different faiths...</td>\n",
       "      <td>1506456019</td>\n",
       "      <td>...</td>\n",
       "      <td>2017-09-26 20:00:19</td>\n",
       "      <td>2017</td>\n",
       "      <td>0.50</td>\n",
       "      <td>0.24</td>\n",
       "      <td>0.31</td>\n",
       "      <td>2.00</td>\n",
       "      <td>0.19</td>\n",
       "      <td>0.16</td>\n",
       "      <td>-1.98</td>\n",
       "      <td>-1.82</td>\n",
       "    </tr>\n",
       "    <tr>\n",
       "      <th>2626</th>\n",
       "      <td>2626</td>\n",
       "      <td>22</td>\n",
       "      <td>Mei Lin Neo: The fascinating secret lives of g...</td>\n",
       "      <td>327</td>\n",
       "      <td>TED2017</td>\n",
       "      <td>1492992000</td>\n",
       "      <td>18</td>\n",
       "      <td>Mei Lin Neo</td>\n",
       "      <td>Mei Lin Neo: The fascinating secret lives of g...</td>\n",
       "      <td>1506437715</td>\n",
       "      <td>...</td>\n",
       "      <td>2017-09-26 14:55:15</td>\n",
       "      <td>2017</td>\n",
       "      <td>0.86</td>\n",
       "      <td>0.00</td>\n",
       "      <td>0.00</td>\n",
       "      <td>0.28</td>\n",
       "      <td>0.43</td>\n",
       "      <td>1.74</td>\n",
       "      <td>0.01</td>\n",
       "      <td>1.75</td>\n",
       "    </tr>\n",
       "    <tr>\n",
       "      <th>2627</th>\n",
       "      <td>2627</td>\n",
       "      <td>21</td>\n",
       "      <td>Anindya Kundu: The boost students need to over...</td>\n",
       "      <td>425</td>\n",
       "      <td>TED Residency</td>\n",
       "      <td>1496707200</td>\n",
       "      <td>15</td>\n",
       "      <td>Anindya Kundu</td>\n",
       "      <td>Anindya Kundu: The boost students need to over...</td>\n",
       "      <td>1506352216</td>\n",
       "      <td>...</td>\n",
       "      <td>2017-09-25 15:10:16</td>\n",
       "      <td>2017</td>\n",
       "      <td>0.26</td>\n",
       "      <td>0.00</td>\n",
       "      <td>0.00</td>\n",
       "      <td>0.52</td>\n",
       "      <td>0.43</td>\n",
       "      <td>-0.16</td>\n",
       "      <td>-0.68</td>\n",
       "      <td>-0.84</td>\n",
       "    </tr>\n",
       "  </tbody>\n",
       "</table>\n",
       "<p>5 rows × 155 columns</p>\n",
       "</div>"
      ],
      "text/plain": [
       "      index  comments                                        description  \\\n",
       "2623   2623        12  Anna Heringer: The warmth and wisdom of mud bu...   \n",
       "2624   2624        21  Julio Gil: Future tech will give you the benef...   \n",
       "2625   2625        19  Nabila Alibhai: Why people of different faiths...   \n",
       "2626   2626        22  Mei Lin Neo: The fascinating secret lives of g...   \n",
       "2627   2627        21  Anindya Kundu: The boost students need to over...   \n",
       "\n",
       "      duration           event   film_date  languages    main_speaker  \\\n",
       "2623       781         TED2017  1492992000          8   Anna Heringer   \n",
       "2624       667         TED@UPS  1500508800         14       Julio Gil   \n",
       "2625       711  TEDGlobal 2017  1503792000          9  Nabila Alibhai   \n",
       "2626       327         TED2017  1492992000         18     Mei Lin Neo   \n",
       "2627       425   TED Residency  1496707200         15   Anindya Kundu   \n",
       "\n",
       "                                                   name  published_date  \\\n",
       "2623  Anna Heringer: The warmth and wisdom of mud bu...      1506609881   \n",
       "2624  Julio Gil: Future tech will give you the benef...      1506524207   \n",
       "2625  Nabila Alibhai: Why people of different faiths...      1506456019   \n",
       "2626  Mei Lin Neo: The fascinating secret lives of g...      1506437715   \n",
       "2627  Anindya Kundu: The boost students need to over...      1506352216   \n",
       "\n",
       "          ...             published_dt published_year  Harm Fairness Purity  \\\n",
       "2623      ...      2017-09-28 14:44:41           2017  0.17     0.06   0.40   \n",
       "2624      ...      2017-09-27 14:56:47           2017  0.00     0.06   0.00   \n",
       "2625      ...      2017-09-26 20:00:19           2017  0.50     0.24   0.31   \n",
       "2626      ...      2017-09-26 14:55:15           2017  0.86     0.00   0.00   \n",
       "2627      ...      2017-09-25 15:10:16           2017  0.26     0.00   0.00   \n",
       "\n",
       "     Ingroup  Authority  posemo_change  negemo_change affect_change  \n",
       "2623    0.23       0.40          -0.48          -0.12         -0.60  \n",
       "2624    0.25       0.13           0.00          -0.38         -0.38  \n",
       "2625    2.00       0.19           0.16          -1.98         -1.82  \n",
       "2626    0.28       0.43           1.74           0.01          1.75  \n",
       "2627    0.52       0.43          -0.16          -0.68         -0.84  \n",
       "\n",
       "[5 rows x 155 columns]"
      ]
     },
     "execution_count": 50,
     "metadata": {},
     "output_type": "execute_result"
    }
   ],
   "source": [
    "\n",
    "df.tail()"
   ]
  },
  {
   "cell_type": "code",
   "execution_count": 59,
   "metadata": {
    "collapsed": true
   },
   "outputs": [],
   "source": [
    "def calculate_pvalues(df):\n",
    "    df = df.dropna()._get_numeric_data()\n",
    "    dfcols = pd.DataFrame(columns=df.columns)\n",
    "    pvalues = dfcols.transpose().join(dfcols, how='outer')\n",
    "    for r in df.columns:\n",
    "        for c in df.columns:\n",
    "            pvalues[r][c] = round(pearsonr(df[r], df[c])[1], 4)\n",
    "    return pvalues\n",
    "\n",
    "def plot_moral_words_by_year():\n",
    "    df.groupby('published_year')['MoralityGeneral'].mean().plot()\n",
    "    plt.show()\n",
    "    df.groupby('published_year')['Harm'].mean().plot()\n",
    "    plt.show()\n",
    "    df.groupby('published_year')['Authority'].mean().plot()\n",
    "    plt.show()\n",
    "    df.groupby('published_year')['Fairness'].mean().plot()\n",
    "    plt.show()\n",
    "    df.groupby('published_year')['Ingroup'].mean().plot()\n",
    "    plt.show()\n",
    "    df.groupby('published_year')['Purity'].mean().plot()\n",
    "    plt.show()\n",
    "    # Show correlation matrix of moral category by year\n",
    "    \n",
    "    # Show p-value of correlation of moral category by year\n",
    "    "
   ]
  },
  {
   "cell_type": "code",
   "execution_count": 60,
   "metadata": {},
   "outputs": [
    {
     "data": {
      "image/png": "[encoded data removed]",
      "text/plain": [
       "<matplotlib.figure.Figure at 0x1a16e30dd8>"
      ]
     },
     "metadata": {},
     "output_type": "display_data"
    },
    {
     "data": {
      "image/png": "[encoded data removed]",
      "text/plain": [
       "<matplotlib.figure.Figure at 0x1a16d60ef0>"
      ]
     },
     "metadata": {},
     "output_type": "display_data"
    },
    {
     "data": {
      "image/png": "[encoded data removed]",
      "text/plain": [
       "<matplotlib.figure.Figure at 0x1a16843cc0>"
      ]
     },
     "metadata": {},
     "output_type": "display_data"
    },
    {
     "data": {
      "image/png": "[encoded data removed]",
      "text/plain": [
       "<matplotlib.figure.Figure at 0x1a16e105f8>"
      ]
     },
     "metadata": {},
     "output_type": "display_data"
    },
    {
     "data": {
      "image/png": "[encoded data removed]",
      "text/plain": [
       "<matplotlib.figure.Figure at 0x10e2d6f28>"
      ]
     },
     "metadata": {},
     "output_type": "display_data"
    },
    {
     "data": {
      "image/png": "[encoded data removed]",
      "text/plain": [
       "<matplotlib.figure.Figure at 0x1a1674dcf8>"
      ]
     },
     "metadata": {},
     "output_type": "display_data"
    }
   ],
   "source": [
    "plot_moral_words_by_year()"
   ]
  },
  {
   "cell_type": "code",
   "execution_count": 35,
   "metadata": {},
   "outputs": [
    {
     "data": {
      "text/html": [
       "<div>\n",
       "<style>\n",
       "    .dataframe thead tr:only-child th {\n",
       "        text-align: right;\n",
       "    }\n",
       "\n",
       "    .dataframe thead th {\n",
       "        text-align: left;\n",
       "    }\n",
       "\n",
       "    .dataframe tbody tr th {\n",
       "        vertical-align: top;\n",
       "    }\n",
       "</style>\n",
       "<table border=\"1\" class=\"dataframe\">\n",
       "  <thead>\n",
       "    <tr style=\"text-align: right;\">\n",
       "      <th></th>\n",
       "      <th>MoralityGeneral</th>\n",
       "      <th>Harm</th>\n",
       "      <th>Authority</th>\n",
       "      <th>Ingroup</th>\n",
       "      <th>Purity</th>\n",
       "      <th>Fairness</th>\n",
       "      <th>published_date</th>\n",
       "    </tr>\n",
       "  </thead>\n",
       "  <tbody>\n",
       "    <tr>\n",
       "      <th>MoralityGeneral</th>\n",
       "      <td>1.000000</td>\n",
       "      <td>0.065378</td>\n",
       "      <td>0.068348</td>\n",
       "      <td>-0.037941</td>\n",
       "      <td>0.016400</td>\n",
       "      <td>0.123824</td>\n",
       "      <td>-0.052308</td>\n",
       "    </tr>\n",
       "    <tr>\n",
       "      <th>Harm</th>\n",
       "      <td>0.065378</td>\n",
       "      <td>1.000000</td>\n",
       "      <td>0.166907</td>\n",
       "      <td>0.216890</td>\n",
       "      <td>0.143721</td>\n",
       "      <td>0.096939</td>\n",
       "      <td>0.105854</td>\n",
       "    </tr>\n",
       "    <tr>\n",
       "      <th>Authority</th>\n",
       "      <td>0.068348</td>\n",
       "      <td>0.166907</td>\n",
       "      <td>1.000000</td>\n",
       "      <td>0.217058</td>\n",
       "      <td>-0.011165</td>\n",
       "      <td>0.148562</td>\n",
       "      <td>0.069671</td>\n",
       "    </tr>\n",
       "    <tr>\n",
       "      <th>Ingroup</th>\n",
       "      <td>-0.037941</td>\n",
       "      <td>0.216890</td>\n",
       "      <td>0.217058</td>\n",
       "      <td>1.000000</td>\n",
       "      <td>0.038544</td>\n",
       "      <td>0.126757</td>\n",
       "      <td>0.148848</td>\n",
       "    </tr>\n",
       "    <tr>\n",
       "      <th>Purity</th>\n",
       "      <td>0.016400</td>\n",
       "      <td>0.143721</td>\n",
       "      <td>-0.011165</td>\n",
       "      <td>0.038544</td>\n",
       "      <td>1.000000</td>\n",
       "      <td>-0.000744</td>\n",
       "      <td>0.034588</td>\n",
       "    </tr>\n",
       "    <tr>\n",
       "      <th>Fairness</th>\n",
       "      <td>0.123824</td>\n",
       "      <td>0.096939</td>\n",
       "      <td>0.148562</td>\n",
       "      <td>0.126757</td>\n",
       "      <td>-0.000744</td>\n",
       "      <td>1.000000</td>\n",
       "      <td>0.125746</td>\n",
       "    </tr>\n",
       "    <tr>\n",
       "      <th>published_date</th>\n",
       "      <td>-0.052308</td>\n",
       "      <td>0.105854</td>\n",
       "      <td>0.069671</td>\n",
       "      <td>0.148848</td>\n",
       "      <td>0.034588</td>\n",
       "      <td>0.125746</td>\n",
       "      <td>1.000000</td>\n",
       "    </tr>\n",
       "  </tbody>\n",
       "</table>\n",
       "</div>"
      ],
      "text/plain": [
       "                 MoralityGeneral      Harm  Authority   Ingroup    Purity  \\\n",
       "MoralityGeneral         1.000000  0.065378   0.068348 -0.037941  0.016400   \n",
       "Harm                    0.065378  1.000000   0.166907  0.216890  0.143721   \n",
       "Authority               0.068348  0.166907   1.000000  0.217058 -0.011165   \n",
       "Ingroup                -0.037941  0.216890   0.217058  1.000000  0.038544   \n",
       "Purity                  0.016400  0.143721  -0.011165  0.038544  1.000000   \n",
       "Fairness                0.123824  0.096939   0.148562  0.126757 -0.000744   \n",
       "published_date         -0.052308  0.105854   0.069671  0.148848  0.034588   \n",
       "\n",
       "                 Fairness  published_date  \n",
       "MoralityGeneral  0.123824       -0.052308  \n",
       "Harm             0.096939        0.105854  \n",
       "Authority        0.148562        0.069671  \n",
       "Ingroup          0.126757        0.148848  \n",
       "Purity          -0.000744        0.034588  \n",
       "Fairness         1.000000        0.125746  \n",
       "published_date   0.125746        1.000000  "
      ]
     },
     "execution_count": 35,
     "metadata": {},
     "output_type": "execute_result"
    }
   ],
   "source": [
    "df[['MoralityGeneral', 'Harm', 'Authority', 'Ingroup', 'Purity', 'Fairness', 'published_date']].corr()"
   ]
  },
  {
   "cell_type": "code",
   "execution_count": 37,
   "metadata": {},
   "outputs": [
    {
     "data": {
      "text/html": [
       "<div>\n",
       "<style>\n",
       "    .dataframe thead tr:only-child th {\n",
       "        text-align: right;\n",
       "    }\n",
       "\n",
       "    .dataframe thead th {\n",
       "        text-align: left;\n",
       "    }\n",
       "\n",
       "    .dataframe tbody tr th {\n",
       "        vertical-align: top;\n",
       "    }\n",
       "</style>\n",
       "<table border=\"1\" class=\"dataframe\">\n",
       "  <thead>\n",
       "    <tr style=\"text-align: right;\">\n",
       "      <th></th>\n",
       "      <th>MoralityGeneral</th>\n",
       "      <th>Harm</th>\n",
       "      <th>Authority</th>\n",
       "      <th>Ingroup</th>\n",
       "      <th>Purity</th>\n",
       "      <th>Fairness</th>\n",
       "      <th>published_date</th>\n",
       "    </tr>\n",
       "  </thead>\n",
       "  <tbody>\n",
       "    <tr>\n",
       "      <th>MoralityGeneral</th>\n",
       "      <td>0</td>\n",
       "      <td>0.0012</td>\n",
       "      <td>0.0007</td>\n",
       "      <td>0.0607</td>\n",
       "      <td>0.4177</td>\n",
       "      <td>0</td>\n",
       "      <td>0.0097</td>\n",
       "    </tr>\n",
       "    <tr>\n",
       "      <th>Harm</th>\n",
       "      <td>0.0012</td>\n",
       "      <td>0</td>\n",
       "      <td>0</td>\n",
       "      <td>0</td>\n",
       "      <td>0</td>\n",
       "      <td>0</td>\n",
       "      <td>0</td>\n",
       "    </tr>\n",
       "    <tr>\n",
       "      <th>Authority</th>\n",
       "      <td>0.0007</td>\n",
       "      <td>0</td>\n",
       "      <td>0</td>\n",
       "      <td>0</td>\n",
       "      <td>0.5812</td>\n",
       "      <td>0</td>\n",
       "      <td>0.0006</td>\n",
       "    </tr>\n",
       "    <tr>\n",
       "      <th>Ingroup</th>\n",
       "      <td>0.0607</td>\n",
       "      <td>0</td>\n",
       "      <td>0</td>\n",
       "      <td>0</td>\n",
       "      <td>0.0568</td>\n",
       "      <td>0</td>\n",
       "      <td>0</td>\n",
       "    </tr>\n",
       "    <tr>\n",
       "      <th>Purity</th>\n",
       "      <td>0.4177</td>\n",
       "      <td>0</td>\n",
       "      <td>0.5812</td>\n",
       "      <td>0.0568</td>\n",
       "      <td>0</td>\n",
       "      <td>0.9707</td>\n",
       "      <td>0.0874</td>\n",
       "    </tr>\n",
       "    <tr>\n",
       "      <th>Fairness</th>\n",
       "      <td>0</td>\n",
       "      <td>0</td>\n",
       "      <td>0</td>\n",
       "      <td>0</td>\n",
       "      <td>0.9707</td>\n",
       "      <td>0</td>\n",
       "      <td>0</td>\n",
       "    </tr>\n",
       "    <tr>\n",
       "      <th>published_date</th>\n",
       "      <td>0.0097</td>\n",
       "      <td>0</td>\n",
       "      <td>0.0006</td>\n",
       "      <td>0</td>\n",
       "      <td>0.0874</td>\n",
       "      <td>0</td>\n",
       "      <td>0</td>\n",
       "    </tr>\n",
       "  </tbody>\n",
       "</table>\n",
       "</div>"
      ],
      "text/plain": [
       "                MoralityGeneral    Harm Authority Ingroup  Purity Fairness  \\\n",
       "MoralityGeneral               0  0.0012    0.0007  0.0607  0.4177        0   \n",
       "Harm                     0.0012       0         0       0       0        0   \n",
       "Authority                0.0007       0         0       0  0.5812        0   \n",
       "Ingroup                  0.0607       0         0       0  0.0568        0   \n",
       "Purity                   0.4177       0    0.5812  0.0568       0   0.9707   \n",
       "Fairness                      0       0         0       0  0.9707        0   \n",
       "published_date           0.0097       0    0.0006       0  0.0874        0   \n",
       "\n",
       "                published_date  \n",
       "MoralityGeneral         0.0097  \n",
       "Harm                         0  \n",
       "Authority               0.0006  \n",
       "Ingroup                      0  \n",
       "Purity                  0.0874  \n",
       "Fairness                     0  \n",
       "published_date               0  "
      ]
     },
     "execution_count": 37,
     "metadata": {},
     "output_type": "execute_result"
    }
   ],
   "source": [
    "moral_df = df[['MoralityGeneral', 'Harm', 'Authority', 'Ingroup', 'Purity', 'Fairness', 'published_date']]\n",
    "calculate_pvalues(moral_df)"
   ]
  },
  {
   "cell_type": "code",
   "execution_count": null,
   "metadata": {
    "collapsed": true
   },
   "outputs": [],
   "source": [
    "def normalize(x, label):\n",
    "    return x.count(term)"
   ]
  },
  {
   "cell_type": "code",
   "execution_count": 62,
   "metadata": {},
   "outputs": [],
   "source": [
    "df['norm_persuasive'] = df['persuasive'] / df['views']"
   ]
  },
  {
   "cell_type": "code",
   "execution_count": 63,
   "metadata": {},
   "outputs": [
    {
     "data": {
      "text/plain": [
       "count    2406.000000\n",
       "mean        0.000137\n",
       "std         0.000167\n",
       "min         0.000000\n",
       "25%         0.000038\n",
       "50%         0.000091\n",
       "75%         0.000180\n",
       "max         0.002759\n",
       "Name: norm_persuasive, dtype: float64"
      ]
     },
     "execution_count": 63,
     "metadata": {},
     "output_type": "execute_result"
    }
   ],
   "source": [
    "df['norm_persuasive'].describe()"
   ]
  },
  {
   "cell_type": "code",
   "execution_count": 67,
   "metadata": {},
   "outputs": [
    {
     "data": {
      "text/plain": [
       "<matplotlib.axes._subplots.AxesSubplot at 0x1a16a52080>"
      ]
     },
     "execution_count": 67,
     "metadata": {},
     "output_type": "execute_result"
    },
    {
     "data": {
      "image/png": "[encoded data removed]",
      "text/plain": [
       "<matplotlib.figure.Figure at 0x1a16b33518>"
      ]
     },
     "metadata": {},
     "output_type": "display_data"
    }
   ],
   "source": [
    "df['norm_persuasive'].hist(bins=50)"
   ]
  },
  {
   "cell_type": "code",
   "execution_count": 72,
   "metadata": {},
   "outputs": [
    {
     "data": {
      "text/plain": [
       "<matplotlib.axes._subplots.AxesSubplot at 0x10af7cfd0>"
      ]
     },
     "execution_count": 72,
     "metadata": {},
     "output_type": "execute_result"
    },
    {
     "data": {
      "image/png": "[encoded data removed]",
      "text/plain": [
       "<matplotlib.figure.Figure at 0x10adeb080>"
      ]
     },
     "metadata": {},
     "output_type": "display_data"
    }
   ],
   "source": [
    "df['persuasive'].hist(bins=50)"
   ]
  },
  {
   "cell_type": "code",
   "execution_count": null,
   "metadata": {
    "collapsed": true
   },
   "outputs": [],
   "source": []
  }
 ],
 "metadata": {
  "kernelspec": {
   "display_name": "Python 3",
   "language": "python",
   "name": "python3"
  },
  "language_info": {
   "codemirror_mode": {
    "name": "ipython",
    "version": 3
   },
   "file_extension": ".py",
   "mimetype": "text/x-python",
   "name": "python",
   "nbconvert_exporter": "python",
   "pygments_lexer": "ipython3",
   "version": "3.6.3"
  }
 },
 "nbformat": 4,
 "nbformat_minor": 2
}
