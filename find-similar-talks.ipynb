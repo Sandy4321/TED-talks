{
 "cells": [
  {
   "cell_type": "markdown",
   "metadata": {},
   "source": [
    "## K Nearest Neighbors"
   ]
  },
  {
   "cell_type": "code",
   "execution_count": 17,
   "metadata": {
    "collapsed": true
   },
   "outputs": [],
   "source": [
    "import os\n",
    "import settings\n",
    "import pandas as pd\n",
    "import numpy as np\n",
    "from scipy.spatial import distance\n"
   ]
  },
  {
   "cell_type": "code",
   "execution_count": 18,
   "metadata": {
    "collapsed": true
   },
   "outputs": [],
   "source": [
    "def read_data():\n",
    "    df = pd.read_excel(os.path.join(settings.PROCESSED_DIR, \"all_with_liwc_segmented.xls\"), encoding=\"ISO-8859-1\")\n",
    "    return df"
   ]
  },
  {
   "cell_type": "code",
   "execution_count": 19,
   "metadata": {
    "collapsed": true
   },
   "outputs": [],
   "source": [
    "df = read_data()"
   ]
  },
  {
   "cell_type": "code",
   "execution_count": 8,
   "metadata": {},
   "outputs": [],
   "source": []
  },
  {
   "cell_type": "code",
   "execution_count": 20,
   "metadata": {
    "collapsed": true
   },
   "outputs": [],
   "source": [
    "def find_similar_speaker(name):\n",
    "    numerical = df.select_dtypes(include=['int64','float64'])\n",
    "    df_normalized = (numerical - numerical.mean()) / numerical.std()\n",
    "    del df_normalized['music']\n",
    "    del df_normalized['conversation']\n",
    "    speaker_normalized = df_normalized[df[\"main_speaker\"] == name]\n",
    "    speaker_normalized = speaker_normalized.iloc[0]\n",
    "    euclidean_distances = df_normalized.apply(lambda row: distance.euclidean(row, speaker_normalized), axis=1)\n",
    "    print(euclidean_distances.nsmallest(5))\n",
    "    second_smallest_value = euclidean_distances.nsmallest(2).iloc[1]\n",
    "    rec_idx = euclidean_distances[euclidean_distances == second_smallest_value].index\n",
    "    return df[['main_speaker', 'description', 'url' ]].iloc[rec_idx]"
   ]
  },
  {
   "cell_type": "code",
   "execution_count": 21,
   "metadata": {},
   "outputs": [
    {
     "name": "stdout",
     "output_type": "stream",
     "text": [
      "64     0.000000\n",
      "81     7.003069\n",
      "389    7.866872\n",
      "54     8.246570\n",
      "224    8.375643\n",
      "dtype: float64\n"
     ]
    },
    {
     "data": {
      "text/html": [
       "<div>\n",
       "<style>\n",
       "    .dataframe thead tr:only-child th {\n",
       "        text-align: right;\n",
       "    }\n",
       "\n",
       "    .dataframe thead th {\n",
       "        text-align: left;\n",
       "    }\n",
       "\n",
       "    .dataframe tbody tr th {\n",
       "        vertical-align: top;\n",
       "    }\n",
       "</style>\n",
       "<table border=\"1\" class=\"dataframe\">\n",
       "  <thead>\n",
       "    <tr style=\"text-align: right;\">\n",
       "      <th></th>\n",
       "      <th>main_speaker</th>\n",
       "      <th>description</th>\n",
       "      <th>url</th>\n",
       "    </tr>\n",
       "  </thead>\n",
       "  <tbody>\n",
       "    <tr>\n",
       "      <th>85</th>\n",
       "      <td>Sheila Patek</td>\n",
       "      <td>Biologist Sheila Patek talks about her work me...</td>\n",
       "      <td>https://www.ted.com/talks/sheila_patek_clocks_...</td>\n",
       "    </tr>\n",
       "  </tbody>\n",
       "</table>\n",
       "</div>"
      ],
      "text/plain": [
       "    main_speaker                                        description  \\\n",
       "85  Sheila Patek  Biologist Sheila Patek talks about her work me...   \n",
       "\n",
       "                                                  url  \n",
       "85  https://www.ted.com/talks/sheila_patek_clocks_...  "
      ]
     },
     "execution_count": 21,
     "metadata": {},
     "output_type": "execute_result"
    }
   ],
   "source": [
    "find_similar_speaker('E.O. Wilson')"
   ]
  },
  {
   "cell_type": "code",
   "execution_count": 23,
   "metadata": {
    "collapsed": true
   },
   "outputs": [],
   "source": [
    "def find_similar_talk_moral(title):\n",
    "    numerical = df[['HarmVirtue', 'HarmVice', 'AuthorityVirtue', 'AuthorityVice', 'IngroupVirtue', 'IngroupVice', 'FairnessVirtue', 'FairnessVice', 'PurityVirtue', 'PurityVice', 'MoralityGeneral']]\n",
    "    df_normalized = (numerical - numerical.mean()) / numerical.std()\n",
    "    speaker_normalized = df_normalized[df[\"title\"] == title]\n",
    "    speaker_normalized = speaker_normalized.iloc[0]\n",
    "    print(speaker_normalized)\n",
    "    euclidean_distances = df_normalized.apply(lambda row: distance.euclidean(row, speaker_normalized), axis=1)\n",
    "    print(euclidean_distances.nsmallest(5))\n",
    "    second_smallest_value = euclidean_distances.nsmallest(2).iloc[1]\n",
    "    rec_idx = euclidean_distances[euclidean_distances == second_smallest_value].index\n",
    "    #print(euclidean_distances.sort_values())\n",
    "    return df[['main_speaker', 'description', 'url']].iloc[rec_idx]"
   ]
  },
  {
   "cell_type": "code",
   "execution_count": 24,
   "metadata": {},
   "outputs": [
    {
     "name": "stdout",
     "output_type": "stream",
     "text": [
      "HarmVirtue         0.658628\n",
      "HarmVice          -0.475024\n",
      "AuthorityVirtue    0.892933\n",
      "AuthorityVice      0.374477\n",
      "IngroupVirtue      0.055593\n",
      "IngroupVice       -0.436870\n",
      "FairnessVirtue     0.303447\n",
      "FairnessVice      -0.243597\n",
      "PurityVirtue      -0.070717\n",
      "PurityVice        -0.161798\n",
      "MoralityGeneral    3.856452\n",
      "Name: 384, dtype: float64\n",
      "384     0.000000\n",
      "1976    1.498020\n",
      "2451    1.607556\n",
      "1049    1.693742\n",
      "1596    1.743696\n",
      "dtype: float64\n"
     ]
    },
    {
     "data": {
      "text/html": [
       "<div>\n",
       "<style>\n",
       "    .dataframe thead tr:only-child th {\n",
       "        text-align: right;\n",
       "    }\n",
       "\n",
       "    .dataframe thead th {\n",
       "        text-align: left;\n",
       "    }\n",
       "\n",
       "    .dataframe tbody tr th {\n",
       "        vertical-align: top;\n",
       "    }\n",
       "</style>\n",
       "<table border=\"1\" class=\"dataframe\">\n",
       "  <thead>\n",
       "    <tr style=\"text-align: right;\">\n",
       "      <th></th>\n",
       "      <th>main_speaker</th>\n",
       "      <th>description</th>\n",
       "      <th>url</th>\n",
       "    </tr>\n",
       "  </thead>\n",
       "  <tbody>\n",
       "    <tr>\n",
       "      <th>2163</th>\n",
       "      <td>Arthur Brooks</td>\n",
       "      <td>Conservatives and liberals both believe that t...</td>\n",
       "      <td>https://www.ted.com/talks/arthur_brooks_a_cons...</td>\n",
       "    </tr>\n",
       "  </tbody>\n",
       "</table>\n",
       "</div>"
      ],
      "text/plain": [
       "       main_speaker                                        description  \\\n",
       "2163  Arthur Brooks  Conservatives and liberals both believe that t...   \n",
       "\n",
       "                                                    url  \n",
       "2163  https://www.ted.com/talks/arthur_brooks_a_cons...  "
      ]
     },
     "execution_count": 24,
     "metadata": {},
     "output_type": "execute_result"
    }
   ],
   "source": [
    "find_similar_talk_moral('Our loss of wisdom')"
   ]
  },
  {
   "cell_type": "code",
   "execution_count": null,
   "metadata": {
    "collapsed": true
   },
   "outputs": [],
   "source": []
  }
 ],
 "metadata": {
  "kernelspec": {
   "display_name": "Python 3",
   "language": "python",
   "name": "python3"
  },
  "language_info": {
   "codemirror_mode": {
    "name": "ipython",
    "version": 3
   },
   "file_extension": ".py",
   "mimetype": "text/x-python",
   "name": "python",
   "nbconvert_exporter": "python",
   "pygments_lexer": "ipython3",
   "version": "3.6.3"
  }
 },
 "nbformat": 4,
 "nbformat_minor": 2
}
