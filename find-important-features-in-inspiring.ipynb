{
 "cells": [
  {
   "cell_type": "markdown",
   "metadata": {},
   "source": [
    "## Use Decision Tree to find important features"
   ]
  },
  {
   "cell_type": "code",
   "execution_count": 62,
   "metadata": {
    "collapsed": true
   },
   "outputs": [],
   "source": [
    "import os\n",
    "import settings\n",
    "import pandas as pd\n",
    "import operator\n",
    "\n",
    "from sklearn.model_selection import train_test_split\n",
    "from sklearn.tree import DecisionTreeRegressor\n",
    "from sklearn.metrics import mean_squared_error\n",
    "\n",
    "def read_data():\n",
    "    df = pd.read_excel(os.path.join(settings.PROCESSED_DIR, \"all_with_liwc_segmented.xls\"), encoding=\"ISO-8859-1\")\n",
    "    return df\n",
    "\n",
    "def create_test_set(df):\n",
    "    predictors = df.columns.tolist()\n",
    "    predictors = [p for p in predictors if p not in settings.NON_PREDICTORS]\n",
    "    X_train, X_test, y_train, y_test = train_test_split(df[predictors], df[settings.TARGET], random_state = 42)\n",
    "    return X_train, X_test, y_train, y_test\n",
    "\n",
    "\n",
    "def compute_error(target, predictions):\n",
    "    return mean_squared_error(target, predictions)\n",
    "\n",
    "def sort_important_features(df):\n",
    "    dt = DecisionTreeRegressor()\n",
    "    predictors = df.columns.tolist()\n",
    "    predictors = [p for p in predictors if p not in settings.NON_PREDICTORS]\n",
    "    dt.fit(df[predictors], df[settings.TARGET])\n",
    "    predictions = dt.predict(df[predictors])\n",
    "    results = {name: score for name, score in zip(predictors, dt.feature_importances_)}\n",
    "    sorted_results = sorted(results.items(), key=operator.itemgetter(1), reverse=True)\n",
    "    print(sorted_results)\n",
    "    accuracy = dt.score(df[predictors], df[settings.TARGET])\n",
    "    print(\"Accuracy: {}\".format(accuracy))"
   ]
  },
  {
   "cell_type": "code",
   "execution_count": 63,
   "metadata": {
    "collapsed": true
   },
   "outputs": [],
   "source": [
    "df = read_data()\n"
   ]
  },
  {
   "cell_type": "code",
   "execution_count": 60,
   "metadata": {
    "collapsed": true
   },
   "outputs": [],
   "source": [
    "my_columns = list(df.columns)"
   ]
  },
  {
   "cell_type": "code",
   "execution_count": 61,
   "metadata": {},
   "outputs": [
    {
     "data": {
      "text/plain": [
       "['index',\n",
       " 'comments',\n",
       " 'description',\n",
       " 'duration',\n",
       " 'event',\n",
       " 'film_date',\n",
       " 'languages',\n",
       " 'main_speaker',\n",
       " 'name',\n",
       " 'published_date',\n",
       " 'ratings',\n",
       " 'related_talks',\n",
       " 'speaker_occupation',\n",
       " 'tags',\n",
       " 'title',\n",
       " 'url',\n",
       " 'views',\n",
       " 'music',\n",
       " 'conversation',\n",
       " 'transcript',\n",
       " 'persuasive',\n",
       " 'inspiring',\n",
       " 'unconvincing',\n",
       " 'applause',\n",
       " 'laughter',\n",
       " 'norm_persuasive',\n",
       " 'norm_inspiring',\n",
       " 'norm_unconvincing',\n",
       " 'transcript_1sthalf',\n",
       " 'transcript_2ndhalf',\n",
       " 'transcript_1q',\n",
       " 'transcript_2q',\n",
       " 'transcript_3q',\n",
       " 'transcript_4q',\n",
       " 'WC',\n",
       " 'Analytic',\n",
       " 'Clout',\n",
       " 'Authentic',\n",
       " 'Tone',\n",
       " 'WPS',\n",
       " 'Sixltr',\n",
       " 'Dic',\n",
       " 'function',\n",
       " 'pronoun',\n",
       " 'ppron',\n",
       " 'i',\n",
       " 'we',\n",
       " 'you',\n",
       " 'shehe',\n",
       " 'they',\n",
       " 'ipron',\n",
       " 'article',\n",
       " 'prep',\n",
       " 'auxverb',\n",
       " 'adverb',\n",
       " 'conj',\n",
       " 'negate',\n",
       " 'verb',\n",
       " 'adj',\n",
       " 'compare',\n",
       " 'interrog',\n",
       " 'number',\n",
       " 'quant',\n",
       " 'affect',\n",
       " 'posemo',\n",
       " 'negemo',\n",
       " 'anx',\n",
       " 'anger',\n",
       " 'sad',\n",
       " 'social',\n",
       " 'family',\n",
       " 'friend',\n",
       " 'female',\n",
       " 'male',\n",
       " 'cogproc',\n",
       " 'insight',\n",
       " 'cause',\n",
       " 'discrep',\n",
       " 'tentat',\n",
       " 'certain',\n",
       " 'differ',\n",
       " 'percept',\n",
       " 'see',\n",
       " 'hear',\n",
       " 'feel',\n",
       " 'bio',\n",
       " 'body',\n",
       " 'health',\n",
       " 'sexual',\n",
       " 'ingest',\n",
       " 'drives',\n",
       " 'affiliation',\n",
       " 'achieve',\n",
       " 'power',\n",
       " 'reward',\n",
       " 'risk',\n",
       " 'focuspast',\n",
       " 'focuspresent',\n",
       " 'focusfuture',\n",
       " 'relativ',\n",
       " 'motion',\n",
       " 'space',\n",
       " 'time',\n",
       " 'work',\n",
       " 'leisure',\n",
       " 'home',\n",
       " 'money',\n",
       " 'relig',\n",
       " 'death',\n",
       " 'informal',\n",
       " 'swear',\n",
       " 'netspeak',\n",
       " 'assent',\n",
       " 'nonflu',\n",
       " 'filler',\n",
       " 'AllPunc',\n",
       " 'Period',\n",
       " 'Comma',\n",
       " 'Colon',\n",
       " 'SemiC',\n",
       " 'QMark',\n",
       " 'Exclam',\n",
       " 'Dash',\n",
       " 'Quote',\n",
       " 'Apostro',\n",
       " 'Parenth',\n",
       " 'OtherP',\n",
       " 'Moral',\n",
       " 'HarmVirtue',\n",
       " 'HarmVice',\n",
       " 'FairnessVirtue',\n",
       " 'FairnessVice',\n",
       " 'IngroupVirtue',\n",
       " 'IngroupVice',\n",
       " 'AuthorityVirtue',\n",
       " 'AuthorityVice',\n",
       " 'PurityVirtue',\n",
       " 'PurityVice',\n",
       " 'MoralityGeneral',\n",
       " 'affect_1h',\n",
       " 'posemo_1h',\n",
       " 'negemo_1h',\n",
       " 'anx_1h',\n",
       " 'anger_1h',\n",
       " 'sad_1h',\n",
       " 'affect_2h',\n",
       " 'posemo_2h',\n",
       " 'negemo_2h',\n",
       " 'anx_2h',\n",
       " 'anger_2h',\n",
       " 'sad_2h',\n",
       " 'affect_1q',\n",
       " 'posemo_1q',\n",
       " 'negemo_1q',\n",
       " 'anx_1q',\n",
       " 'anger_1q',\n",
       " 'sad_1q',\n",
       " 'affect_2q',\n",
       " 'posemo_2q',\n",
       " 'negemo_2q',\n",
       " 'anx_2q',\n",
       " 'anger_2q',\n",
       " 'sad_2q',\n",
       " 'affect_3q',\n",
       " 'posemo_3q',\n",
       " 'negemo_3q',\n",
       " 'anx_3q',\n",
       " 'anger_3q',\n",
       " 'sad_3q',\n",
       " 'affect_4q',\n",
       " 'posemo_4q',\n",
       " 'negemo_4q',\n",
       " 'anx_4q',\n",
       " 'anger_4q',\n",
       " 'sad_4q',\n",
       " 'posemo_change_h',\n",
       " 'negemo_change_h',\n",
       " 'affect_change_h',\n",
       " 'posemo_change_q',\n",
       " 'negemo_change_q',\n",
       " 'affect_change_q',\n",
       " 'published_year',\n",
       " 'Harm',\n",
       " 'Fairness',\n",
       " 'Purity',\n",
       " 'Ingroup',\n",
       " 'Authority']"
      ]
     },
     "execution_count": 61,
     "metadata": {},
     "output_type": "execute_result"
    }
   ],
   "source": [
    "my_columns"
   ]
  },
  {
   "cell_type": "code",
   "execution_count": 66,
   "metadata": {},
   "outputs": [
    {
     "name": "stdout",
     "output_type": "stream",
     "text": [
      "[('affect_3q', 0.24767939778357462), ('affect_2h', 0.051902914052529135), ('sad_2h', 0.044861395334479165), ('sad_2q', 0.03727171256467008), ('negemo_change_q', 0.030630402084302517), ('sad_1q', 0.029542181393185787), ('posemo_2q', 0.025064003201156357), ('posemo_1q', 0.023924123804876216), ('affect_2q', 0.023732582318629351), ('sad_4q', 0.022275102745884835), ('affect_change_q', 0.021477004929404089), ('negemo_2h', 0.02061250198037759), ('sad_3q', 0.020399253406737018), ('negemo_1q', 0.019655457068667823), ('anx_4q', 0.018955931154548137), ('anx_2q', 0.018561361798340507), ('negemo_change_h', 0.018446081935476144), ('posemo_change_q', 0.018402784150519415), ('affect', 0.016271679653991591), ('posemo_4q', 0.016149166684076822), ('anger_3q', 0.015261987217762523), ('anger_1q', 0.015207669055086828), ('anger_4q', 0.014981820276176689), ('negemo_1h', 0.014554626398596502), ('negemo', 0.014028244006859892), ('posemo_3q', 0.013383221224504827), ('posemo_change_h', 0.012935076107245917), ('anger_2h', 0.012649128922982096), ('posemo', 0.012635054012906464), ('affect_change_h', 0.012533464133319032), ('anger_1h', 0.012516989408887347), ('anx_2h', 0.012508208705207371), ('negemo_2q', 0.011823417459836961), ('negemo_4q', 0.011708307819612025), ('anx_1h', 0.011172131145477505), ('affect_1h', 0.010631334671182534), ('posemo_1h', 0.0095043601091025949), ('negemo_3q', 0.0093630252265589475), ('affect_4q', 0.0092687895431062921), ('anx_3q', 0.0089762783897447979), ('anger_2q', 0.0081789940277399321), ('affect_1q', 0.0057000788726571071), ('posemo_2h', 0.0053637532051040689), ('sad_1h', 0.0052069869383716688), ('anx_1q', 0.0040920150765428719)]\n",
      "Accuracy: 1.0\n"
     ]
    }
   ],
   "source": [
    "sort_important_features(df)\n",
    "#error = compute_error(train[settings.TARGET], predictions)\n",
    "#print(\"Mean"
   ]
  },
  {
   "cell_type": "code",
   "execution_count": 41,
   "metadata": {},
   "outputs": [
    {
     "name": "stdout",
     "output_type": "stream",
     "text": [
      "[('pronoun', 0.22634634818911475), ('i', 0.068672997213791956), ('certain', 0.04325495587188042), ('Moral', 0.02852101570177205), ('power', 0.026907815745320033), ('social', 0.021986171176665004), ('family', 0.021631870503589234), ('anx', 0.020971902004808682), ('home', 0.020004964191056795), ('hear', 0.018972262637917018), ('achieve', 0.018557730950453662), ('see', 0.017184614080643989), ('sad', 0.017146105299756093), ('drives', 0.015683595205564074), ('Clout', 0.01522869320354435), ('negate', 0.013772219234653674), ('Sixltr', 0.013498405954291109), ('relig', 0.013291901736845788), ('adverb', 0.012478690056831507), ('leisure', 0.011919358602055653), ('posemo_change_q', 0.011717287831847004), ('money', 0.011535944710464761), ('motion', 0.010496123675528745), ('feel', 0.010416012988235201), ('Tone', 0.010081712008414194), ('we', 0.009151049871837031), ('negemo_change_q', 0.0089284562145158317), ('Authentic', 0.008653322125345822), ('article', 0.0086010031855257383), ('ingest', 0.0074355841354931517), ('PurityVirtue', 0.0073484764097218654), ('interrog', 0.0072596563996835195), ('compare', 0.007162859348253019), ('discrep', 0.0070377731902804457), ('work', 0.006971154647251448), ('adj', 0.0069478054848510686), ('focuspast', 0.0068972855402875287), ('male', 0.0065958936440869637), ('they', 0.0065496533251645471), ('netspeak', 0.0063721256644518756), ('you', 0.0063126622536127256), ('focusfuture', 0.0062421608382122263), ('auxverb', 0.0060579841525447526), ('differ', 0.0059421705515579435), ('ipron', 0.0057446231374752924), ('prep', 0.0056020990596923554), ('AuthorityVirtue', 0.0055808341507883981), ('percept', 0.0053810575640358734), ('shehe', 0.0052004083171695702), ('posemo', 0.0050062077162593864), ('health', 0.0049395150581733197), ('insight', 0.0048885391638965091), ('WPS', 0.0048869864901943567), ('verb', 0.0047907543555824128), ('sexual', 0.0046836233172508597), ('negemo', 0.004566812778802296), ('cause', 0.0045219914164859277), ('number', 0.0045006854364329513), ('death', 0.0044688909677012625), ('quant', 0.0044608057614159433), ('friend', 0.0043943057462052394), ('space', 0.0041827563465619624), ('laughter', 0.0041628306898916076), ('tentat', 0.0041117460688994681), ('time', 0.0041084806874749401), ('risk', 0.004061864843775193), ('Analytic', 0.0035039511403772202), ('Authority', 0.0034729981213677129), ('reward', 0.0034509180899470727), ('nonflu', 0.0033474527651190301), ('affiliation', 0.0033033591058990327), ('relativ', 0.0032156524315811335), ('Harm', 0.0031447979833816864), ('female', 0.0031021426550408076), ('focuspresent', 0.0030857410218538511), ('MoralityGeneral', 0.0030598444724530944), ('cogproc', 0.0027002954270909213), ('assent', 0.0026634824505783021), ('affect', 0.0025824284986830427), ('conj', 0.0024563741615966053), ('HarmVirtue', 0.0024018373689069588), ('Ingroup', 0.0022901499357942104), ('anger', 0.0017024498439727417), ('FairnessVirtue', 0.0015557273178219721), ('bio', 0.0014747207967323356), ('body', 0.00131496410164353), ('PurityVice', 0.0012162077435010543), ('informal', 0.0012100211272219731), ('IngroupVirtue', 0.0010846136274350563), ('Purity', 0.00068332767117546521), ('swear', 0.00057376196458647601), ('IngroupVice', 0.00020344900456256048), ('Fairness', 9.4710808947895099e-05), ('AuthorityVice', 5.6029359092864508e-05), ('HarmVice', 3.9538686259404169e-05), ('FairnessVice', 1.1239684440473682e-05), ('filler', 6.2178010472267618e-06)]\n",
      "Accuracy: 1.0\n"
     ]
    }
   ],
   "source": [
    "sort_important_features(df)"
   ]
  },
  {
   "cell_type": "code",
   "execution_count": 65,
   "metadata": {},
   "outputs": [
    {
     "name": "stdout",
     "output_type": "stream",
     "text": [
      "[('affect_3q', 0.24534460235071412), ('affect_2h', 0.050387179185868228), ('sad_2q', 0.036108112624338898), ('anger_3q', 0.033267376326998208), ('negemo_change_q', 0.031550460352664962), ('sad_1q', 0.030250504983562299), ('posemo_2q', 0.027168361242812057), ('posemo_2h', 0.026845230817509072), ('sad_2h', 0.024395694165356484), ('affect_2q', 0.023739258627465894), ('negemo_2h', 0.022492286185180264), ('posemo_1q', 0.021903127266779648), ('affect_change_q', 0.02156833016393115), ('sad_3q', 0.019757853766344879), ('anx_2q', 0.019583959628207286), ('affect_change_h', 0.018478522382868547), ('posemo_change_q', 0.018411039665945036), ('negemo_change_h', 0.018278221626145782), ('negemo_1q', 0.018206046108368255), ('posemo_4q', 0.01739886517783485), ('anx_3q', 0.015582263208831057), ('negemo_1h', 0.015514055170166217), ('affect', 0.015377730738010459), ('anger_1q', 0.014422191046300908), ('posemo_3q', 0.014297530045065824), ('negemo', 0.014043694966321733), ('anx_1h', 0.01401191223704254), ('anger_2h', 0.012957001790475103), ('posemo_change_h', 0.01235452853844367), ('negemo_3q', 0.011992937627724543), ('anx_2h', 0.011941043125474119), ('anger_4q', 0.011911418586588351), ('anx_4q', 0.011755700375056371), ('affect_1h', 0.011185101140925241), ('anger_1h', 0.0109827506459825), ('negemo_2q', 0.0097234112878403951), ('sad_1h', 0.0093349107408294656), ('anger_2q', 0.0092163967199118905), ('negemo_4q', 0.0087382271947501252), ('affect_1q', 0.008443678278619686), ('affect_4q', 0.0081114809495894617), ('posemo_1h', 0.0072419902624625545), ('posemo', 0.0059971594899952416), ('sad_4q', 0.0049818401080949344), ('anx_1q', 0.0047460130766018016)]\n",
      "Accuracy: 1.0\n"
     ]
    }
   ],
   "source": [
    "sort_important_features(df)"
   ]
  },
  {
   "cell_type": "code",
   "execution_count": 42,
   "metadata": {},
   "outputs": [
    {
     "name": "stdout",
     "output_type": "stream",
     "text": [
      "[('pronoun', 0.22802894834711945), ('i', 0.06876144905141171), ('female', 0.034920432870458422), ('achieve', 0.023854647146257485), ('power', 0.022889939679956596), ('social', 0.021835610085189618), ('family', 0.021611288921928512), ('bio', 0.020648078991488145), ('home', 0.020186806103548796), ('anx', 0.019828633696526456), ('hear', 0.017916222713103398), ('sad', 0.017150666081241994), ('see', 0.016998744046479011), ('drives', 0.01659613141468565), ('Sixltr', 0.013978268127291202), ('negate', 0.013160251346345119), ('posemo', 0.012958040291428706), ('adverb', 0.012891148696320175), ('relig', 0.012794886558833374), ('leisure', 0.011322657611379511), ('motion', 0.011050684800032852), ('certain', 0.010823116770160174), ('money', 0.010421546958164307), ('we', 0.010183277298246975), ('Moral', 0.01017760254872759), ('interrog', 0.0096411957225414607), ('Tone', 0.0094394011306123717), ('article', 0.0090674393634778278), ('feel', 0.0090461070112251643), ('Clout', 0.0088327742766426583), ('Authentic', 0.0087046124999591631), ('negemo_change_q', 0.0082099946319219158), ('posemo_change_q', 0.008024952591389533), ('adj', 0.0076905016515624097), ('PurityVirtue', 0.0076241241968084232), ('focuspast', 0.007515622180131477), ('laughter', 0.0074528585784814335), ('work', 0.0074417197727793061), ('prep', 0.007286014478990209), ('they', 0.006998594716097874), ('ingest', 0.0066298333098043392), ('male', 0.0064907208288812633), ('netspeak', 0.0063889623101600667), ('auxverb', 0.006282325157725221), ('discrep', 0.0062596066518590286), ('shehe', 0.0062020344921193101), ('insight', 0.0060314442129930489), ('focusfuture', 0.0056699869797017946), ('health', 0.0056693699949807788), ('differ', 0.0056578761405325683), ('ipron', 0.0055189358958715054), ('WPS', 0.0053843008332426761), ('percept', 0.0053353667862099342), ('verb', 0.0052484603955140945), ('sexual', 0.0051799054223801407), ('compare', 0.0051166111719641123), ('negemo', 0.0050067622840311255), ('number', 0.0049939052711966535), ('death', 0.0049438908911664864), ('reward', 0.0047184472811612633), ('friend', 0.0043919682617445258), ('quant', 0.0043157517162565207), ('tentat', 0.004276532336956706), ('risk', 0.004272772629735729), ('space', 0.0038847731292273031), ('Harm', 0.0037746638215678105), ('cause', 0.0036059434868267537), ('Authority', 0.0035643502496508482), ('affiliation', 0.0033470454560082449), ('you', 0.0032846146668436683), ('AuthorityVirtue', 0.0032586336076979704), ('nonflu', 0.0031356672796363136), ('assent', 0.003079694297265961), ('time', 0.0029974003559649015), ('relativ', 0.0028512971001048771), ('focuspresent', 0.0027019845616476491), ('Ingroup', 0.0026942130311673551), ('cogproc', 0.0026781629226076942), ('MoralityGeneral', 0.00260512399859296), ('conj', 0.0025698475160647154), ('affect', 0.0024175423638891358), ('HarmVirtue', 0.0020052163243313766), ('anger', 0.0015792153779930907), ('FairnessVirtue', 0.0012842604372270434), ('informal', 0.0012804229300485994), ('body', 0.0012534179377625733), ('Purity', 0.0010767510170624967), ('Analytic', 0.0010617075568373664), ('IngroupVirtue', 0.0010164074918406253), ('filler', 0.00096170347080697864), ('PurityVice', 0.0006702544987055981), ('swear', 0.00059862671611347049), ('AuthorityVice', 0.00025391544859429573), ('IngroupVice', 0.00022262086120059446), ('HarmVice', 0.00015620480563335477), ('Fairness', 0.00013812977530841758), ('FairnessVice', 3.9423290634562564e-05)]\n",
      "Accuracy: 1.0\n"
     ]
    }
   ],
   "source": [
    "sort_important_features(df)"
   ]
  },
  {
   "cell_type": "markdown",
   "metadata": {},
   "source": [
    "## Random Forest"
   ]
  },
  {
   "cell_type": "code",
   "execution_count": 47,
   "metadata": {
    "collapsed": true
   },
   "outputs": [],
   "source": [
    "import os\n",
    "import settings\n",
    "import pandas as pd\n",
    "import operator\n",
    "\n",
    "from sklearn.model_selection import train_test_split\n",
    "from sklearn.ensemble import RandomForestRegressor\n",
    "from sklearn.metrics import mean_squared_error"
   ]
  },
  {
   "cell_type": "code",
   "execution_count": 67,
   "metadata": {
    "collapsed": true
   },
   "outputs": [],
   "source": [
    "def sort_important_features(df):\n",
    "    rf = RandomForestRegressor()\n",
    "    predictors = df.columns.tolist()\n",
    "    predictors = [p for p in predictors if p not in settings.NON_PREDICTORS]\n",
    "    rf.fit(df[predictors], df[settings.TARGET])\n",
    "    predictions = rf.predict(df[predictors])\n",
    "    results = {name: score for name, score in zip(predictors, rf.feature_importances_)}\n",
    "    sorted_results = sorted(results.items(), key=operator.itemgetter(1), reverse=True)\n",
    "    print(sorted_results)\n",
    "    accuracy = rf.score(df[predictors], df[settings.TARGET])\n",
    "    print(\"Accuracy: {}\".format(accuracy))"
   ]
  },
  {
   "cell_type": "code",
   "execution_count": 73,
   "metadata": {},
   "outputs": [
    {
     "name": "stdout",
     "output_type": "stream",
     "text": [
      "[('ppron', 0.077284363968883357), ('sad_2q', 0.052759705845388208), ('sad_2h', 0.031062316393476098), ('power', 0.02727934116591433), ('relig', 0.025291346273700988), ('ipron', 0.025039169338970463), ('PurityVice', 0.024633451182361307), ('assent', 0.023920856884461994), ('i', 0.021375905112341609), ('achieve', 0.01759656862811541), ('focuspresent', 0.015644700196431119), ('pronoun', 0.0147020655297922), ('anger', 0.014419926539354644), ('discrep', 0.013934077805753542), ('certain', 0.013771491229118586), ('family', 0.013134186093759364), ('time', 0.011986549819546428), ('IngroupVirtue', 0.011912079047930698), ('money', 0.011380712409069724), ('male', 0.011323458687574634), ('work', 0.011267221335483028), ('HarmVirtue', 0.0110345702025125), ('focuspast', 0.01075353182095252), ('shehe', 0.010153923231439221), ('hear', 0.0098505821947659205), ('informal', 0.0097814092050460856), ('verb', 0.0095295932444915878), ('drives', 0.0094854189085428042), ('article', 0.0089216135586015852), ('prep', 0.0088452586201855764), ('home', 0.00877910260240552), ('negate', 0.0086303332950480489), ('conj', 0.0083295368121687804), ('auxverb', 0.0080706932402416966), ('tentat', 0.0080120230686305909), ('differ', 0.0075858045580710007), ('compare', 0.0074921834504718858), ('space', 0.0074915113891869155), ('Harm', 0.0072096411540859048), ('posemo_2q', 0.0070930241854196873), ('leisure', 0.0070484551616081291), ('affect_4q', 0.0069359196891349657), ('interrog', 0.0068347715537745157), ('adverb', 0.0067073426669585394), ('number', 0.0066511389611826526), ('negemo_1q', 0.0065827090765710489), ('anx_3q', 0.0065803914894182469), ('we', 0.0065534168739032382), ('posemo_change_h', 0.0064106460589449911), ('AuthorityVirtue', 0.0063708644013226344), ('health', 0.0062409146910108217), ('bio', 0.0062242359207935359), ('cogproc', 0.0062161888787009064), ('nonflu', 0.0061674792931664139), ('motion', 0.0061169258487599855), ('see', 0.0058508462729283863), ('affect_1h', 0.0055454732656295535), ('female', 0.0054928182587700115), ('posemo_2h', 0.0053197092770887527), ('MoralityGeneral', 0.0052681171868252576), ('posemo_1h', 0.0052555054147963732), ('anx_1q', 0.0051013751910619232), ('percept', 0.005096113633913729), ('posemo_3q', 0.0050494437777430469), ('ingest', 0.0049977958148583312), ('Ingroup', 0.0049226701341900233), ('insight', 0.0048662031978908057), ('risk', 0.004827144850241662), ('AuthorityVice', 0.0047897203956131992), ('posemo_4q', 0.0047840845528913552), ('affect_change_q', 0.0047779642534572673), ('they', 0.0047487617856149262), ('sad_1q', 0.0047126548857197841), ('affect_3q', 0.0046937321712812469), ('anx_1h', 0.0046608287008645926), ('feel', 0.0046607433840147611), ('adj', 0.0046295107416243044), ('death', 0.0046132885146741905), ('affect_1q', 0.0045356588867535132), ('negemo_2q', 0.0044910678852816853), ('relativ', 0.0044344044847231916), ('you', 0.0043047438907854712), ('quant', 0.0042311508647827857), ('Moral', 0.0042202239015224196), ('anx_4q', 0.0041012520814541729), ('social', 0.0039636834303627844), ('sad_1h', 0.0037797918608035914), ('reward', 0.0037087790123483877), ('cause', 0.0037007014828056477), ('anx', 0.0036520414441055678), ('affect_change_h', 0.0036275054848664903), ('friend', 0.00360619860505352), ('focusfuture', 0.0035990770861474368), ('sad_3q', 0.0035373441164396231), ('netspeak', 0.0034044564460974105), ('swear', 0.0033523982170071652), ('negemo_2h', 0.0033487583010536567), ('negemo', 0.003332426515940244), ('sad', 0.003330588390808277), ('negemo_change_h', 0.0033094844632661656), ('sad_4q', 0.0031346851595076782), ('body', 0.0030739070056654333), ('affiliation', 0.0030449611480915881), ('posemo_change_q', 0.0029359063178036123), ('affect_2q', 0.0027384641782900341), ('Authority', 0.0027379697823725077), ('PurityVirtue', 0.0026841579023934442), ('anger_2q', 0.0026599929818322959), ('anger_4q', 0.0026199868432740651), ('Fairness', 0.0026112644147350743), ('affect_2h', 0.0026040100697503799), ('negemo_change_q', 0.0025844524007040482), ('anger_3q', 0.0025332639051019513), ('IngroupVice', 0.0025302738156565861), ('sexual', 0.002527088525114571), ('posemo', 0.0024977632995350878), ('posemo_1q', 0.0022799517896615593), ('HarmVice', 0.0022484017812061914), ('negemo_4q', 0.0022040011922649367), ('anger_1h', 0.0021243513848567606), ('negemo_1h', 0.0019467584416807148), ('FairnessVirtue', 0.0018030627591691059), ('anger_2h', 0.00180207163890167), ('negemo_3q', 0.0017419656081011045), ('anx_2h', 0.001640484499261027), ('anx_2q', 0.0015500141323628619), ('anger_1q', 0.0015234521298939981), ('FairnessVice', 0.0010465742342498962), ('affect', 0.00096236527958109305), ('Purity', 0.00049472736612801087), ('filler', 0.00046677870380387108)]\n",
      "Accuracy: 0.7846055789695326\n"
     ]
    }
   ],
   "source": [
    "sort_important_features(df)"
   ]
  },
  {
   "cell_type": "code",
   "execution_count": 74,
   "metadata": {},
   "outputs": [
    {
     "name": "stdout",
     "output_type": "stream",
     "text": [
      "[('ppron', 0.087258990935289438), ('relativ', 0.031918633550889447), ('pronoun', 0.029326161028134529), ('focusfuture', 0.024155910758204585), ('body', 0.023097820769066725), ('relig', 0.021673372013243635), ('space', 0.020098837169368826), ('achieve', 0.019739268402759587), ('i', 0.019409001906020518), ('ipron', 0.018057223980820363), ('sad_2q', 0.017385323134079905), ('power', 0.017230255129271309), ('home', 0.016361483630985569), ('work', 0.015517345127553175), ('focuspast', 0.015483197421022507), ('family', 0.015324587734766392), ('quant', 0.014453449284125309), ('adverb', 0.013957537926590055), ('sad_1h', 0.012304675409291454), ('time', 0.012174149541101451), ('posemo_1q', 0.011459489229618036), ('health', 0.010961519069523746), ('negate', 0.010515954252460918), ('discrep', 0.01045996105344343), ('female', 0.010247759934705248), ('money', 0.0099096639703008717), ('affect_2q', 0.0092154211106461291), ('shehe', 0.0091343441945342489), ('friend', 0.0091032796476540542), ('see', 0.0089499777654986241), ('adj', 0.0088145326338158018), ('informal', 0.0087662310708349848), ('HarmVirtue', 0.0084937048148178186), ('cause', 0.0084737983420484393), ('social', 0.0084084738754720886), ('hear', 0.0083962366680122337), ('reward', 0.0083013447866832676), ('affect_1h', 0.0082965072136649623), ('nonflu', 0.0081430087522496673), ('focuspresent', 0.0079945416746362262), ('bio', 0.0077928382509840511), ('drives', 0.0076943758088995435), ('posemo', 0.0074669616426250151), ('prep', 0.0074451916832221788), ('they', 0.0074436496869687927), ('article', 0.007418271611670582), ('ingest', 0.0073452544854201414), ('Harm', 0.0072284439050871781), ('you', 0.0065622506804640405), ('motion', 0.0063152733167438262), ('affect_3q', 0.0059872341113916218), ('negemo_2h', 0.0059780381716404655), ('posemo_2h', 0.0059402189292755746), ('number', 0.0059216883822989569), ('differ', 0.0058277928178907101), ('compare', 0.0058106039893657561), ('verb', 0.0057501383123413682), ('auxverb', 0.0055073861884103875), ('posemo_2q', 0.0055006944591411552), ('affect_change_q', 0.0054528131574778423), ('cogproc', 0.0054219268692124161), ('male', 0.0053430807214761636), ('certain', 0.0053285329848922871), ('tentat', 0.0053143005432473656), ('we', 0.0052263695360957232), ('sad', 0.0051378362202397099), ('negemo_3q', 0.0049575225898334267), ('percept', 0.0049341144420834097), ('Ingroup', 0.0049152859273275621), ('FairnessVirtue', 0.004906657596064218), ('AuthorityVirtue', 0.0048513769221646139), ('leisure', 0.0047670550326000148), ('sad_1q', 0.004748180802522684), ('conj', 0.0047007879411655688), ('insight', 0.004655514277351995), ('negemo_2q', 0.0046398019458123406), ('IngroupVirtue', 0.0045625191282978317), ('anx_1h', 0.0045224517758733224), ('death', 0.0044842808223734282), ('negemo_4q', 0.0044734560340170797), ('posemo_1h', 0.0044690506514128807), ('interrog', 0.004441524642478943), ('affect_2h', 0.0042068503357882), ('anx_2h', 0.0040044012203713751), ('MoralityGeneral', 0.0040035811492327798), ('posemo_3q', 0.0039636648255343453), ('netspeak', 0.0039487317612615152), ('negemo_1q', 0.0038801730512628948), ('affiliation', 0.0038234423634451857), ('posemo_change_q', 0.0037310937046401752), ('feel', 0.0036083803082568992), ('risk', 0.0035981348652240489), ('anger', 0.0035663289824753646), ('affect_1q', 0.0035465459643658423), ('Authority', 0.0034990685966761808), ('anx_4q', 0.0034575235222841657), ('sad_4q', 0.0032718193346983975), ('PurityVirtue', 0.0031068698704835628), ('assent', 0.0030965112647663761), ('swear', 0.0030942408513340699), ('Moral', 0.0030582385979591059), ('sexual', 0.0030005212468528783), ('negemo_change_h', 0.0029973510832041099), ('posemo_4q', 0.0028681753181532934), ('HarmVice', 0.0028626246524054515), ('anger_2h', 0.002811727767034475), ('negemo_change_q', 0.0027087440082602292), ('anger_4q', 0.0026850192613395575), ('sad_3q', 0.0026668511174468583), ('anger_2q', 0.0025928306330504553), ('anx_1q', 0.0025356900149016981), ('AuthorityVice', 0.0025322835777400474), ('affect_change_h', 0.0025034571614038384), ('affect_4q', 0.002435130809532731), ('anger_3q', 0.0024248021766040328), ('anx_2q', 0.0023695793937413326), ('negemo_1h', 0.0023466953318758031), ('anx', 0.0023090188939021128), ('anger_1q', 0.0021678667688243801), ('anx_3q', 0.0021154500572798758), ('affect', 0.0020916173334106728), ('negemo', 0.0020597353001462156), ('IngroupVice', 0.0018323641495831926), ('anger_1h', 0.0017976597469811669), ('filler', 0.0016150832066294206), ('sad_2h', 0.0014967614656219114), ('Fairness', 0.001313154344124877), ('PurityVice', 0.0013082097384199292), ('posemo_change_h', 0.0012736502354038523), ('Purity', 0.00097013312988900437), ('FairnessVice', 0.00067848959510834433)]\n",
      "Accuracy: 0.7842598379655077\n"
     ]
    }
   ],
   "source": [
    "sort_important_features(df)"
   ]
  },
  {
   "cell_type": "markdown",
   "metadata": {},
   "source": [
    "## Linear regression with Sentiment"
   ]
  },
  {
   "cell_type": "code",
   "execution_count": 53,
   "metadata": {},
   "outputs": [
    {
     "name": "stderr",
     "output_type": "stream",
     "text": [
      "/Users/owentemple/anaconda3/lib/python3.6/site-packages/statsmodels/compat/pandas.py:56: FutureWarning: The pandas.core.datetools module is deprecated and will be removed in a future version. Please use the pandas.tseries module instead.\n",
      "  from pandas.core import datetools\n"
     ]
    }
   ],
   "source": [
    "import statsmodels.api as sm\n",
    "from sklearn.linear_model import LinearRegression"
   ]
  },
  {
   "cell_type": "code",
   "execution_count": 58,
   "metadata": {
    "collapsed": true
   },
   "outputs": [],
   "source": [
    "def create_summary(df):\n",
    "    lr = LinearRegression()\n",
    "    predictors = df.columns.tolist()\n",
    "    predictors = ['affect_change_h']\n",
    "    lr.fit(df[predictors], df['norm_inspiring'])\n",
    "\n",
    "    X = df[predictors]\n",
    "    X2 = sm.add_constant(X)\n",
    "    est = sm.OLS(df['norm_inspiring'], X2)\n",
    "    est2 = est.fit()\n",
    "    print(est2.summary())"
   ]
  },
  {
   "cell_type": "code",
   "execution_count": 59,
   "metadata": {},
   "outputs": [
    {
     "name": "stdout",
     "output_type": "stream",
     "text": [
      "                            OLS Regression Results                            \n",
      "==============================================================================\n",
      "Dep. Variable:         norm_inspiring   R-squared:                       0.002\n",
      "Model:                            OLS   Adj. R-squared:                  0.002\n",
      "Method:                 Least Squares   F-statistic:                     4.808\n",
      "Date:                Thu, 11 Jan 2018   Prob (F-statistic):             0.0284\n",
      "Time:                        15:34:16   Log-Likelihood:                -16925.\n",
      "No. Observations:                2406   AIC:                         3.385e+04\n",
      "Df Residuals:                    2404   BIC:                         3.387e+04\n",
      "Df Model:                           1                                         \n",
      "Covariance Type:            nonrobust                                         \n",
      "===================================================================================\n",
      "                      coef    std err          t      P>|t|      [0.025      0.975]\n",
      "-----------------------------------------------------------------------------------\n",
      "const             280.1395      5.939     47.173      0.000     268.494     291.785\n",
      "affect_change_h     8.3141      3.792      2.193      0.028       0.879      15.750\n",
      "==============================================================================\n",
      "Omnibus:                     3226.504   Durbin-Watson:                   1.809\n",
      "Prob(Omnibus):                  0.000   Jarque-Bera (JB):          1829374.249\n",
      "Skew:                           7.061   Prob(JB):                         0.00\n",
      "Kurtosis:                     137.345   Cond. No.                         1.77\n",
      "==============================================================================\n",
      "\n",
      "Warnings:\n",
      "[1] Standard Errors assume that the covariance matrix of the errors is correctly specified.\n"
     ]
    }
   ],
   "source": [
    "create_summary(df)"
   ]
  },
  {
   "cell_type": "code",
   "execution_count": 165,
   "metadata": {
    "collapsed": true
   },
   "outputs": [],
   "source": [
    "def create_summary(df):\n",
    "    lr = LinearRegression()\n",
    "    predictors = df.columns.tolist()\n",
    "    predictors = ['we','sad_2q', 'power', 'relig', 'i', 'social', 'focuspast', 'relig', 'achieve', 'home', 'power', 'see']\n",
    "    lr.fit(df[predictors], df['norm_inspiring'])\n",
    "\n",
    "    X = df[predictors]\n",
    "    X2 = sm.add_constant(X)\n",
    "    est = sm.OLS(df['norm_inspiring'], X2)\n",
    "    est2 = est.fit()\n",
    "    print(est2.summary())"
   ]
  },
  {
   "cell_type": "code",
   "execution_count": 166,
   "metadata": {},
   "outputs": [
    {
     "name": "stdout",
     "output_type": "stream",
     "text": [
      "                            OLS Regression Results                            \n",
      "==============================================================================\n",
      "Dep. Variable:         norm_inspiring   R-squared:                       0.126\n",
      "Model:                            OLS   Adj. R-squared:                  0.123\n",
      "Method:                 Least Squares   F-statistic:                     34.59\n",
      "Date:                Thu, 11 Jan 2018   Prob (F-statistic):           1.57e-63\n",
      "Time:                        17:15:38   Log-Likelihood:                -16766.\n",
      "No. Observations:                2406   AIC:                         3.355e+04\n",
      "Df Residuals:                    2395   BIC:                         3.362e+04\n",
      "Df Model:                          10                                         \n",
      "Covariance Type:            nonrobust                                         \n",
      "==============================================================================\n",
      "                 coef    std err          t      P>|t|      [0.025      0.975]\n",
      "------------------------------------------------------------------------------\n",
      "const        -62.2171     30.206     -2.060      0.040    -121.449      -2.985\n",
      "we            17.5474      4.802      3.654      0.000       8.131      26.964\n",
      "sad_2q        50.8731     14.545      3.498      0.000      22.351      79.395\n",
      "power          8.1714      2.845      2.873      0.004       2.593      13.750\n",
      "relig         24.1695      6.187      3.906      0.000      12.036      36.303\n",
      "i             28.3982      3.062      9.274      0.000      22.394      34.403\n",
      "social         8.8112      1.978      4.456      0.000       4.933      12.689\n",
      "focuspast      8.0855      3.439      2.351      0.019       1.342      14.829\n",
      "relig         24.1695      6.187      3.906      0.000      12.036      36.303\n",
      "achieve       36.4824      7.852      4.646      0.000      21.084      51.880\n",
      "home          34.1887     16.608      2.059      0.040       1.621      66.756\n",
      "power          8.1714      2.845      2.873      0.004       2.593      13.750\n",
      "see          -15.1738      6.600     -2.299      0.022     -28.116      -2.231\n",
      "==============================================================================\n",
      "Omnibus:                     3507.390   Durbin-Watson:                   1.766\n",
      "Prob(Omnibus):                  0.000   Jarque-Bera (JB):          3125458.515\n",
      "Skew:                           8.183   Prob(JB):                         0.00\n",
      "Kurtosis:                     178.809   Cond. No.                     3.17e+18\n",
      "==============================================================================\n",
      "\n",
      "Warnings:\n",
      "[1] Standard Errors assume that the covariance matrix of the errors is correctly specified.\n",
      "[2] The smallest eigenvalue is 3.82e-32. This might indicate that there are\n",
      "strong multicollinearity problems or that the design matrix is singular.\n"
     ]
    }
   ],
   "source": [
    "create_summary(df)"
   ]
  },
  {
   "cell_type": "code",
   "execution_count": null,
   "metadata": {
    "collapsed": true
   },
   "outputs": [],
   "source": []
  }
 ],
 "metadata": {
  "kernelspec": {
   "display_name": "Python 3",
   "language": "python",
   "name": "python3"
  },
  "language_info": {
   "codemirror_mode": {
    "name": "ipython",
    "version": 3
   },
   "file_extension": ".py",
   "mimetype": "text/x-python",
   "name": "python",
   "nbconvert_exporter": "python",
   "pygments_lexer": "ipython3",
   "version": "3.6.3"
  }
 },
 "nbformat": 4,
 "nbformat_minor": 2
}
